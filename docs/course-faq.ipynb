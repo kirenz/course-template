{
 "cells": [
  {
   "cell_type": "markdown",
   "metadata": {},
   "source": [
    "# FAQ"
   ]
  },
  {
   "cell_type": "markdown",
   "metadata": {},
   "source": [
    "\n",
    "## How do I export my assignment PDF from RStudio to upload to Gradescope?\n",
    "\n",
    "Go to your *Files* tab, check the box next to the file you want to download, then click on the blue gear icon on the Files tab to reveal the drop down menu, and select *Export*... If you have selected multiple files to export, RStudio will zip them up into a single zip file for you.\n",
    "If you've selected just a single file, it will only download that.\n",
    "The downloaded file will go to wherever files you download off the internet goes on your computer (usually your Downloads folder).\n",
    "\n",
    "\n",
    "## How can I submit my assignment to Gradescope?\n",
    "\n",
    "The instructions for submitting your assignment to Gradescope can be found [here](https://help.gradescope.com/article/ccbpppziu9-student-submit-work#submitting_a_pdf).\n",
    "In a nutshell, you'll upload your PDF and them mark the page(s) where each question can be found.\n",
    "It's OK if a question spans multiple pages, just mark them all.\n",
    "It's also OK if a page includes multiple questions.\n",
    "\n",
    "\n",
    "## Can I use a local install of R and RStudio instead of using the RStudio containers?\n",
    "\n",
    "The short answer is, I'd rather you didn't, to save yourself some headache.\n",
    "But, the long answer is, sure!\n",
    "But you will need to install a specific versions of R and RStudio for everything to work as expected.\n",
    "You will also need to install the R packages we're using as well as have Git installed on your computer.\n",
    "These are not extremely challenging things to get right, but they are not trivial either, particularly on certain operating systems.\n",
    "Myself and the TAs are always happy to provide help with any computational questions when you're working in the containers we have provided for you.\n",
    "If you're working on your local setup, we can't guarantee being able to resolve your issues, though we're happy to try.\n",
    "\n",
    "If you want to take this path, here is what you need to do:\n",
    "\n",
    "-   Download and install R 4.1.2: <https://cran.r-project.org/>\n",
    "-   Download and install a daily build of RStudio: <https://dailies.rstudio.com/>\n",
    "-   Install Quarto CLI: <https://quarto.org/docs/getting-started/installation.html>\n",
    "-   Install Git: <https://happygitwithr.com/install-git.html>\n",
    "-   Install any necessary packages with `install.packages(\"___\")`\n",
    "\n",
    "And I'd like to reiterate again that successful installation of these software is **not** a learning goal of this course.\n",
    "So if any of this seems tedious or intimidating in any way, just use the computing environment we have set up for you.\n",
    "More on that [here](/computing-access.html).\n"
   ]
  }
 ],
 "metadata": {
  "kernelspec": {
   "display_name": "Python 3.9.12 ('base')",
   "language": "python",
   "name": "python3"
  },
  "language_info": {
   "name": "python",
   "version": "3.9.12"
  },
  "orig_nbformat": 4,
  "vscode": {
   "interpreter": {
    "hash": "463226f144cc21b006ce6927bfc93dd00694e52c8bc6857abb6e555b983749e9"
   }
  }
 },
 "nbformat": 4,
 "nbformat_minor": 2
}
