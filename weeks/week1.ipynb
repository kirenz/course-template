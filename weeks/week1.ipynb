{
 "cells": [
  {
   "cell_type": "markdown",
   "metadata": {},
   "source": [
    "# Week 1"
   ]
  },
  {
   "cell_type": "markdown",
   "metadata": {},
   "source": [
    "\n",
    "::: callout-important\n",
    "Classes are virtual this week.\n",
    "Find Zoom links [here](https://sakai.duke.edu/portal/site/779c3ebe-3b88-4bcc-bd01-1813e8396a23/page/d5eef508-07a4-4c6d-b7bd-4614a9631562 \"Sakai - Zoom meetings\").\n",
    ":::\n",
    "\n",
    "## Prepare\n",
    "\n",
    "📖 Read the [syllabus](/course-syllabus.html)\n",
    "\n",
    "📖 Read the [support](/course-support.html) resources\n",
    "\n",
    "## Participate\n",
    "\n",
    "🖥️ [Lab 0 -](/_slides/lab-0.html)[Meet](/slides/lab-0.html)[+ greet](/_slides/lab-0.html)\n",
    "\n",
    "🖥️ [Lecture 1 - Welcome to STA 210](/slides/lec-1.html)\n",
    "\n",
    "## Practice\n",
    "\n",
    "📋 [AE 0 - Movies](/ae/ae-0-movies.html)\n",
    "\n",
    "## Perform\n",
    "\n",
    "⌨️ [Lab 0 - Meet + greet](/labs/lab-0.html)\n",
    "\n",
    "<br><br>\n",
    "\n",
    "::: {style=\"font-size: 0.875em;\"}\n",
    "Back to [course schedule](/ \"Course schedule\") ⏎\n",
    ":::\n"
   ]
  }
 ],
 "metadata": {
  "kernelspec": {
   "display_name": "Python 3.9.12 ('base')",
   "language": "python",
   "name": "python3"
  },
  "language_info": {
   "name": "python",
   "version": "3.9.12"
  },
  "orig_nbformat": 4,
  "vscode": {
   "interpreter": {
    "hash": "463226f144cc21b006ce6927bfc93dd00694e52c8bc6857abb6e555b983749e9"
   }
  }
 },
 "nbformat": 4,
 "nbformat_minor": 2
}
