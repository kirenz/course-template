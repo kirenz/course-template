{
 "cells": [
  {
   "cell_type": "markdown",
   "metadata": {},
   "source": [
    "# Week 1"
   ]
  },
  {
   "cell_type": "markdown",
   "metadata": {},
   "source": [
    "\n",
    " ```{admonition} Important\n",
    ":class: tip\n",
    "\n",
    "Text\n",
    "```\n",
    "\n",
    "(week1:prepare)=\n",
    "## Prepare\n",
    "\n",
    "📖 Read the [syllabus](/course-syllabus.html)\n",
    "\n",
    "📖 Read the [support](/course-support.html) resources\n",
    "\n",
    "(week1:participate)=\n",
    "## Participate\n",
    "\n",
    "🖥️ [Lab 0 -](/_slides/lab-0.html)[Meet](/slides/lab-0.html)[+ greet](/_slides/lab-0.html)\n",
    "\n",
    "🖥️ [Lecture 1 - Welcome to STA 210](/slides/lec-1.html)\n",
    "\n",
    "(week1:practice)=\n",
    "## Practice\n",
    "\n",
    "📋 [AE 0 - Movies](/ae/ae-0-movies.html)\n",
    "\n",
    "(week1:perform)=\n",
    "## Perform\n",
    "\n",
    "⌨️ [Lab 0 - Meet + greet](/labs/lab-0.html)\n",
    "\n",
    "<br><br>\n",
    "\n",
    ":::{Note}\n",
    "Text\n",
    ":::\n",
    "\n",
    "\n",
    "::: {style=\"font-size: 0.875em;\"}\n",
    "Back to [course schedule](/ \"Course schedule\") ⏎\n",
    ":::\n",
    "\n",
    "<!--\n",
    "```{image} ../_static/img/img.png\n",
    ":alt: text\n",
    ":class: bg-primary mb-1\n",
    ":width: 600px\n",
    ":align: center\n",
    "```\n",
    "-->"
   ]
  }
 ],
 "metadata": {
  "kernelspec": {
   "display_name": "Python 3.9.12 ('base')",
   "language": "python",
   "name": "python3"
  },
  "language_info": {
   "name": "python",
   "version": "3.9.12"
  },
  "orig_nbformat": 4,
  "vscode": {
   "interpreter": {
    "hash": "463226f144cc21b006ce6927bfc93dd00694e52c8bc6857abb6e555b983749e9"
   }
  }
 },
 "nbformat": 4,
 "nbformat_minor": 2
}
